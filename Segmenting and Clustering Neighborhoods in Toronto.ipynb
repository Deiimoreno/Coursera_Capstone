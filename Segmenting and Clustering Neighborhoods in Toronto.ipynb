{
    "cells": [
        {
            "cell_type": "markdown",
            "metadata": {},
            "source": "<h1 align=center><font size = 8>Segmenting and Clustering Neighborhoods in Toronto, Canada</font></h1>"
        },
        {
            "cell_type": "markdown",
            "metadata": {},
            "source": "First of all, we have to import libraries and the dataset"
        },
        {
            "cell_type": "markdown",
            "metadata": {},
            "source": "## Step 1: Import libraries"
        },
        {
            "cell_type": "code",
            "execution_count": 2,
            "metadata": {},
            "outputs": [
                {
                    "name": "stdout",
                    "output_type": "stream",
                    "text": "Collecting folium\n\u001b[?25l  Downloading https://files.pythonhosted.org/packages/fd/a0/ccb3094026649cda4acd55bf2c3822bb8c277eb11446d13d384e5be35257/folium-0.10.1-py2.py3-none-any.whl (91kB)\n\u001b[K     |\u2588\u2588\u2588\u2588\u2588\u2588\u2588\u2588\u2588\u2588\u2588\u2588\u2588\u2588\u2588\u2588\u2588\u2588\u2588\u2588\u2588\u2588\u2588\u2588\u2588\u2588\u2588\u2588\u2588\u2588\u2588\u2588| 92kB 18.7MB/s eta 0:00:01\n\u001b[?25hRequirement already satisfied: jinja2>=2.9 in /opt/conda/envs/Python36/lib/python3.6/site-packages (from folium) (2.10)\nRequirement already satisfied: numpy in /opt/conda/envs/Python36/lib/python3.6/site-packages (from folium) (1.15.4)\nRequirement already satisfied: requests in /opt/conda/envs/Python36/lib/python3.6/site-packages (from folium) (2.21.0)\nCollecting branca>=0.3.0 (from folium)\n  Downloading https://files.pythonhosted.org/packages/81/6d/31c83485189a2521a75b4130f1fee5364f772a0375f81afff619004e5237/branca-0.4.0-py3-none-any.whl\nRequirement already satisfied: MarkupSafe>=0.23 in /opt/conda/envs/Python36/lib/python3.6/site-packages (from jinja2>=2.9->folium) (1.1.0)\nRequirement already satisfied: certifi>=2017.4.17 in /opt/conda/envs/Python36/lib/python3.6/site-packages (from requests->folium) (2019.11.28)\nRequirement already satisfied: idna<2.9,>=2.5 in /opt/conda/envs/Python36/lib/python3.6/site-packages (from requests->folium) (2.8)\nRequirement already satisfied: chardet<3.1.0,>=3.0.2 in /opt/conda/envs/Python36/lib/python3.6/site-packages (from requests->folium) (3.0.4)\nRequirement already satisfied: urllib3<1.25,>=1.21.1 in /opt/conda/envs/Python36/lib/python3.6/site-packages (from requests->folium) (1.24.1)\nRequirement already satisfied: six in /opt/conda/envs/Python36/lib/python3.6/site-packages (from branca>=0.3.0->folium) (1.12.0)\nInstalling collected packages: branca, folium\nSuccessfully installed branca-0.4.0 folium-0.10.1\nLibraries imported.\n"
                }
            ],
            "source": "import numpy as np # library to handle data in a vectorized manner\n\nimport pandas as pd # library for data analsysis\npd.set_option('display.max_columns', None)\npd.set_option('display.max_rows', None)\n\nimport json # library to handle JSON files\n\n#!conda install -c conda-forge geopy --yes # uncomment this line if you haven't completed the Foursquare API lab\nfrom geopy.geocoders import Nominatim # convert an address into latitude and longitude values\n\nimport requests # library to handle requests\nfrom pandas.io.json import json_normalize # tranform JSON file into a pandas dataframe\n\n# Matplotlib and associated plotting modules\nimport matplotlib.cm as cm\nimport matplotlib.colors as colors\n\n# import k-means from clustering stage\nfrom sklearn.cluster import KMeans\n\n#!conda install -c conda-forge folium=0.5.0 --yes # uncomment this line if you haven't completed the Foursquare API lab\n!pip install folium\nimport folium # map rendering library\n\nprint('Libraries imported.')"
        },
        {
            "cell_type": "markdown",
            "metadata": {},
            "source": "## Step 2: Download dataset"
        },
        {
            "cell_type": "markdown",
            "metadata": {},
            "source": "In this case, the dataset that we have is given by Wikipedia, which is a table of neighborhoods and their post code. This table is given in HTML, so we have to convert it to a Panda Dataframe.\n\nTo do that, I create a string with the HTML code."
        },
        {
            "cell_type": "code",
            "execution_count": 44,
            "metadata": {},
            "outputs": [],
            "source": "html_string = \"\"\"\n<table class=\"wikitable\">\n<tbody><tr>\n<th>Postal code\n</th>\n<th>Borough\n</th>\n<th>Neighborhood\n</th></tr>\n<tr>\n<td>M1A\n</td>\n<td>Not assigned\n</td>\n<td>\n</td></tr>\n<tr>\n<td>M2A\n</td>\n<td>Not assigned\n</td>\n<td>\n</td></tr>\n<tr>\n<td>M3A\n</td>\n<td>North York\n</td>\n<td>Parkwoods\n</td></tr>\n<tr>\n<td>M4A\n</td>\n<td>North York\n</td>\n<td>Victoria Village\n</td></tr>\n<tr>\n<td>M5A\n</td>\n<td>Downtown Toronto\n</td>\n<td>Regent Park / Harbourfront\n</td></tr>\n<tr>\n<td>M6A\n</td>\n<td>North York\n</td>\n<td>Lawrence Manor / Lawrence Heights\n</td></tr>\n<tr>\n<td>M7A\n</td>\n<td>Downtown Toronto\n</td>\n<td>Queen's Park / Ontario Provincial Government\n</td></tr>\n<tr>\n<td>M8A\n</td>\n<td>Not assigned\n</td>\n<td>\n</td></tr>\n<tr>\n<td>M9A\n</td>\n<td>Etobicoke\n</td>\n<td>Islington Avenue\n</td></tr>\n<tr>\n<td>M1B\n</td>\n<td>Scarborough\n</td>\n<td>Malvern / Rouge\n</td></tr>\n<tr>\n<td>M2B\n</td>\n<td>Not assigned\n</td>\n<td>\n</td></tr>\n<tr>\n<td>M3B\n</td>\n<td>North York\n</td>\n<td>Don Mills\n</td></tr>\n<tr>\n<td>M4B\n</td>\n<td>East York\n</td>\n<td>Parkview Hill / Woodbine Gardens\n</td></tr>\n<tr>\n<td>M5B\n</td>\n<td>Downtown Toronto\n</td>\n<td>Garden District, Ryerson\n</td></tr>\n<tr>\n<td>M6B\n</td>\n<td>North York\n</td>\n<td>Glencairn\n</td></tr>\n<tr>\n<td>M7B\n</td>\n<td>Not assigned\n</td>\n<td>\n</td></tr>\n<tr>\n<td>M8B\n</td>\n<td>Not assigned\n</td>\n<td>\n</td></tr>\n<tr>\n<td>M9B\n</td>\n<td>Etobicoke\n</td>\n<td>West Deane Park / Princess Gardens / Martin Grove / Islington / Cloverdale\n</td></tr>\n<tr>\n<td>M1C\n</td>\n<td>Scarborough\n</td>\n<td>Rouge Hill / Port Union / Highland Creek\n</td></tr>\n<tr>\n<td>M2C\n</td>\n<td>Not assigned\n</td>\n<td>\n</td></tr>\n<tr>\n<td>M3C\n</td>\n<td>North York\n</td>\n<td>Don Mills\n</td></tr>\n<tr>\n<td>M4C\n</td>\n<td>East York\n</td>\n<td>Woodbine Heights\n</td></tr>\n<tr>\n<td>M5C\n</td>\n<td>Downtown Toronto\n</td>\n<td>St. James Town\n</td></tr>\n<tr>\n<td>M6C\n</td>\n<td>York\n</td>\n<td>Humewood-Cedarvale\n</td></tr>\n<tr>\n<td>M7C\n</td>\n<td>Not assigned\n</td>\n<td>\n</td></tr>\n<tr>\n<td>M8C\n</td>\n<td>Not assigned\n</td>\n<td>\n</td></tr>\n<tr>\n<td>M9C\n</td>\n<td>Etobicoke\n</td>\n<td>Eringate / Bloordale Gardens / Old Burnhamthorpe / Markland Wood\n</td></tr>\n<tr>\n<td>M1E\n</td>\n<td>Scarborough\n</td>\n<td>Guildwood / Morningside / West Hill\n</td></tr>\n<tr>\n<td>M2E\n</td>\n<td>Not assigned\n</td>\n<td>\n</td></tr>\n<tr>\n<td>M3E\n</td>\n<td>Not assigned\n</td>\n<td>\n</td></tr>\n<tr>\n<td>M4E\n</td>\n<td>East Toronto\n</td>\n<td>The Beaches\n</td></tr>\n<tr>\n<td>M5E\n</td>\n<td>Downtown Toronto\n</td>\n<td>Berczy Park\n</td></tr>\n<tr>\n<td>M6E\n</td>\n<td>York\n</td>\n<td>Caledonia-Fairbanks\n</td></tr>\n<tr>\n<td>M7E\n</td>\n<td>Not assigned\n</td>\n<td>\n</td></tr>\n<tr>\n<td>M8E\n</td>\n<td>Not assigned\n</td>\n<td>\n</td></tr>\n<tr>\n<td>M9E\n</td>\n<td>Not assigned\n</td>\n<td>\n</td></tr>\n<tr>\n<td>M1G\n</td>\n<td>Scarborough\n</td>\n<td>Woburn\n</td></tr>\n<tr>\n<td>M2G\n</td>\n<td>Not assigned\n</td>\n<td>\n</td></tr>\n<tr>\n<td>M3G\n</td>\n<td>Not assigned\n</td>\n<td>\n</td></tr>\n<tr>\n<td>M4G\n</td>\n<td>East York\n</td>\n<td>Leaside\n</td></tr>\n<tr>\n<td>M5G\n</td>\n<td>Downtown Toronto\n</td>\n<td>Central Bay Street\n</td></tr>\n<tr>\n<td>M6G\n</td>\n<td>Downtown Toronto\n</td>\n<td>Christie\n</td></tr>\n<tr>\n<td>M7G\n</td>\n<td>Not assigned\n</td>\n<td>\n</td></tr>\n<tr>\n<td>M8G\n</td>\n<td>Not assigned\n</td>\n<td>\n</td></tr>\n<tr>\n<td>M9G\n</td>\n<td>Not assigned\n</td>\n<td>\n</td></tr>\n<tr>\n<td>M1H\n</td>\n<td>Scarborough\n</td>\n<td>Cedarbrae\n</td></tr>\n<tr>\n<td>M2H\n</td>\n<td>North York\n</td>\n<td>Hillcrest Village\n</td></tr>\n<tr>\n<td>M3H\n</td>\n<td>North York\n</td>\n<td>Bathurst Manor / Wilson Heights / Downsview North\n</td></tr>\n<tr>\n<td>M4H\n</td>\n<td>East York\n</td>\n<td>Thorncliffe Park\n</td></tr>\n<tr>\n<td>M5H\n</td>\n<td>Downtown Toronto\n</td>\n<td>Richmond / Adelaide / King\n</td></tr>\n<tr>\n<td>M6H\n</td>\n<td>West Toronto\n</td>\n<td>Dufferin / Dovercourt Village\n</td></tr>\n<tr>\n<td>M7H\n</td>\n<td>Not assigned\n</td>\n<td>\n</td></tr>\n<tr>\n<td>M8H\n</td>\n<td>Not assigned\n</td>\n<td>\n</td></tr>\n<tr>\n<td>M9H\n</td>\n<td>Not assigned\n</td>\n<td>\n</td></tr>\n<tr>\n<td>M1J\n</td>\n<td>Scarborough\n</td>\n<td>Scarborough Village\n</td></tr>\n<tr>\n<td>M2J\n</td>\n<td>North York\n</td>\n<td>Fairview / Henry Farm / Oriole\n</td></tr>\n<tr>\n<td>M3J\n</td>\n<td>North York\n</td>\n<td>Northwood Park / York University\n</td></tr>\n<tr>\n<td>M4J\n</td>\n<td>East York\n</td>\n<td>East Toronto\n</td></tr>\n<tr>\n<td>M5J\n</td>\n<td>Downtown Toronto\n</td>\n<td>Harbourfront East / Union Station / Toronto Islands\n</td></tr>\n<tr>\n<td>M6J\n</td>\n<td>West Toronto\n</td>\n<td>Little Portugal / Trinity\n</td></tr>\n<tr>\n<td>M7J\n</td>\n<td>Not assigned\n</td>\n<td>\n</td></tr>\n<tr>\n<td>M8J\n</td>\n<td>Not assigned\n</td>\n<td>\n</td></tr>\n<tr>\n<td>M9J\n</td>\n<td>Not assigned\n</td>\n<td>\n</td></tr>\n<tr>\n<td>M1K\n</td>\n<td>Scarborough\n</td>\n<td>Kennedy Park / Ionview / East Birchmount Park\n</td></tr>\n<tr>\n<td>M2K\n</td>\n<td>North York\n</td>\n<td>Bayview Village\n</td></tr>\n<tr>\n<td>M3K\n</td>\n<td>North York\n</td>\n<td>Downsview\n</td></tr>\n<tr>\n<td>M4K\n</td>\n<td>East Toronto\n</td>\n<td>The Danforth West / Riverdale\n</td></tr>\n<tr>\n<td>M5K\n</td>\n<td>Downtown Toronto\n</td>\n<td>Toronto Dominion Centre / Design Exchange\n</td></tr>\n<tr>\n<td>M6K\n</td>\n<td>West Toronto\n</td>\n<td>Brockton / Parkdale Village / Exhibition Place\n</td></tr>\n<tr>\n<td>M7K\n</td>\n<td>Not assigned\n</td>\n<td>\n</td></tr>\n<tr>\n<td>M8K\n</td>\n<td>Not assigned\n</td>\n<td>\n</td></tr>\n<tr>\n<td>M9K\n</td>\n<td>Not assigned\n</td>\n<td>\n</td></tr>\n<tr>\n<td>M1L\n</td>\n<td>Scarborough\n</td>\n<td>Golden Mile / Clairlea / Oakridge\n</td></tr>\n<tr>\n<td>M2L\n</td>\n<td>North York\n</td>\n<td>York Mills / Silver Hills\n</td></tr>\n<tr>\n<td>M3L\n</td>\n<td>North York\n</td>\n<td>Downsview\n</td></tr>\n<tr>\n<td>M4L\n</td>\n<td>East Toronto\n</td>\n<td>India Bazaar / The Beaches West\n</td></tr>\n<tr>\n<td>M5L\n</td>\n<td>Downtown Toronto\n</td>\n<td>Commerce Court / Victoria Hotel\n</td></tr>\n<tr>\n<td>M6L\n</td>\n<td>North York\n</td>\n<td>North Park / Maple Leaf Park / Upwood Park\n</td></tr>\n<tr>\n<td>M7L\n</td>\n<td>Not assigned\n</td>\n<td>\n</td></tr>\n<tr>\n<td>M8L\n</td>\n<td>Not assigned\n</td>\n<td>\n</td></tr>\n<tr>\n<td>M9L\n</td>\n<td>North York\n</td>\n<td>Humber Summit\n</td></tr>\n<tr>\n<td>M1M\n</td>\n<td>Scarborough\n</td>\n<td>Cliffside / Cliffcrest / Scarborough Village West\n</td></tr>\n<tr>\n<td>M2M\n</td>\n<td>North York\n</td>\n<td>Willowdale / Newtonbrook\n</td></tr>\n<tr>\n<td>M3M\n</td>\n<td>North York\n</td>\n<td>Downsview\n</td></tr>\n<tr>\n<td>M4M\n</td>\n<td>East Toronto\n</td>\n<td>Studio District\n</td></tr>\n<tr>\n<td>M5M\n</td>\n<td>North York\n</td>\n<td>Bedford Park / Lawrence Manor East\n</td></tr>\n<tr>\n<td>M6M\n</td>\n<td>York\n</td>\n<td>Del Ray / Mount Dennis / Keelsdale and Silverthorn\n</td></tr>\n<tr>\n<td>M7M\n</td>\n<td>Not assigned\n</td>\n<td>\n</td></tr>\n<tr>\n<td>M8M\n</td>\n<td>Not assigned\n</td>\n<td>\n</td></tr>\n<tr>\n<td>M9M\n</td>\n<td>North York\n</td>\n<td>Humberlea / Emery\n</td></tr>\n<tr>\n<td>M1N\n</td>\n<td>Scarborough\n</td>\n<td>Birch Cliff / Cliffside West\n</td></tr>\n<tr>\n<td>M2N\n</td>\n<td>North York\n</td>\n<td>Willowdale\n</td></tr>\n<tr>\n<td>M3N\n</td>\n<td>North York\n</td>\n<td>Downsview\n</td></tr>\n<tr>\n<td>M4N\n</td>\n<td>Central Toronto\n</td>\n<td>Lawrence Park\n</td></tr>\n<tr>\n<td>M5N\n</td>\n<td>Central Toronto\n</td>\n<td>Roselawn\n</td></tr>\n<tr>\n<td>M6N\n</td>\n<td>York\n</td>\n<td>Runnymede / The Junction North\n</td></tr>\n<tr>\n<td>M7N\n</td>\n<td>Not assigned\n</td>\n<td>\n</td></tr>\n<tr>\n<td>M8N\n</td>\n<td>Not assigned\n</td>\n<td>\n</td></tr>\n<tr>\n<td>M9N\n</td>\n<td>York\n</td>\n<td>Weston\n</td></tr>\n<tr>\n<td>M1P\n</td>\n<td>Scarborough\n</td>\n<td>Dorset Park / Wexford Heights / Scarborough Town Centre\n</td></tr>\n<tr>\n<td>M2P\n</td>\n<td>North York\n</td>\n<td>York Mills West\n</td></tr>\n<tr>\n<td>M3P\n</td>\n<td>Not assigned\n</td>\n<td>\n</td></tr>\n<tr>\n<td>M4P\n</td>\n<td>Central Toronto\n</td>\n<td>Davisville North\n</td></tr>\n<tr>\n<td>M5P\n</td>\n<td>Central Toronto\n</td>\n<td>Forest Hill North &amp; West\n</td></tr>\n<tr>\n<td>M6P\n</td>\n<td>West Toronto\n</td>\n<td>High Park / The Junction South\n</td></tr>\n<tr>\n<td>M7P\n</td>\n<td>Not assigned\n</td>\n<td>\n</td></tr>\n<tr>\n<td>M8P\n</td>\n<td>Not assigned\n</td>\n<td>\n</td></tr>\n<tr>\n<td>M9P\n</td>\n<td>Etobicoke\n</td>\n<td>Westmount\n</td></tr>\n<tr>\n<td>M1R\n</td>\n<td>Scarborough\n</td>\n<td>Wexford / Maryvale\n</td></tr>\n<tr>\n<td>M2R\n</td>\n<td>North York\n</td>\n<td>Willowdale\n</td></tr>\n<tr>\n<td>M3R\n</td>\n<td>Not assigned\n</td>\n<td>\n</td></tr>\n<tr>\n<td>M4R\n</td>\n<td>Central Toronto\n</td>\n<td>North Toronto West\n</td></tr>\n<tr>\n<td>M5R\n</td>\n<td>Central Toronto\n</td>\n<td>The Annex / North Midtown / Yorkville\n</td></tr>\n<tr>\n<td>M6R\n</td>\n<td>West Toronto\n</td>\n<td>Parkdale / Roncesvalles\n</td></tr>\n<tr>\n<td>M7R\n</td>\n<td>Mississauga\n</td>\n<td>Canada Post Gateway Processing Centre\n</td></tr>\n<tr>\n<td>M8R\n</td>\n<td>Not assigned\n</td>\n<td>\n</td></tr>\n<tr>\n<td>M9R\n</td>\n<td>Etobicoke\n</td>\n<td>Kingsview Village / St. Phillips / Martin Grove Gardens / Richview Gardens\n</td></tr>\n<tr>\n<td>M1S\n</td>\n<td>Scarborough\n</td>\n<td>Agincourt\n</td></tr>\n<tr>\n<td>M2S\n</td>\n<td>Not assigned\n</td>\n<td>\n</td></tr>\n<tr>\n<td>M3S\n</td>\n<td>Not assigned\n</td>\n<td>\n</td></tr>\n<tr>\n<td>M4S\n</td>\n<td>Central Toronto\n</td>\n<td>Davisville\n</td></tr>\n<tr>\n<td>M5S\n</td>\n<td>Downtown Toronto\n</td>\n<td>University of Toronto / Harbord\n</td></tr>\n<tr>\n<td>M6S\n</td>\n<td>West Toronto\n</td>\n<td>Runnymede / Swansea\n</td></tr>\n<tr>\n<td>M7S\n</td>\n<td>Not assigned\n</td>\n<td>\n</td></tr>\n<tr>\n<td>M8S\n</td>\n<td>Not assigned\n</td>\n<td>\n</td></tr>\n<tr>\n<td>M9S\n</td>\n<td>Not assigned\n</td>\n<td>\n</td></tr>\n<tr>\n<td>M1T\n</td>\n<td>Scarborough\n</td>\n<td>Clarks Corners / Tam O'Shanter / Sullivan\n</td></tr>\n<tr>\n<td>M2T\n</td>\n<td>Not assigned\n</td>\n<td>\n</td></tr>\n<tr>\n<td>M3T\n</td>\n<td>Not assigned\n</td>\n<td>\n</td></tr>\n<tr>\n<td>M4T\n</td>\n<td>Central Toronto\n</td>\n<td>Moore Park / Summerhill East\n</td></tr>\n<tr>\n<td>M5T\n</td>\n<td>Downtown Toronto\n</td>\n<td>Kensington Market / Chinatown / Grange Park\n</td></tr>\n<tr>\n<td>M6T\n</td>\n<td>Not assigned\n</td>\n<td>\n</td></tr>\n<tr>\n<td>M7T\n</td>\n<td>Not assigned\n</td>\n<td>\n</td></tr>\n<tr>\n<td>M8T\n</td>\n<td>Not assigned\n</td>\n<td>\n</td></tr>\n<tr>\n<td>M9T\n</td>\n<td>Not assigned\n</td>\n<td>\n</td></tr>\n<tr>\n<td>M1V\n</td>\n<td>Scarborough\n</td>\n<td>Milliken / Agincourt North / Steeles East / L'Amoreaux East\n</td></tr>\n<tr>\n<td>M2V\n</td>\n<td>Not assigned\n</td>\n<td>\n</td></tr>\n<tr>\n<td>M3V\n</td>\n<td>Not assigned\n</td>\n<td>\n</td></tr>\n<tr>\n<td>M4V\n</td>\n<td>Central Toronto\n</td>\n<td>Summerhill West / Rathnelly / South Hill / Forest Hill SE / Deer Park\n</td></tr>\n<tr>\n<td>M5V\n</td>\n<td>Downtown Toronto\n</td>\n<td>CN Tower / King and Spadina / Railway Lands / Harbourfront West / Bathurst\n<pre> Quay / South Niagara / Island airport\n</pre>\n</td></tr>\n<tr>\n<td>M6V\n</td>\n<td>Not assigned\n</td>\n<td>\n</td></tr>\n<tr>\n<td>M7V\n</td>\n<td>Not assigned\n</td>\n<td>\n</td></tr>\n<tr>\n<td>M8V\n</td>\n<td>Etobicoke\n</td>\n<td>New Toronto / Mimico South / Humber Bay Shores\n</td></tr>\n<tr>\n<td>M9V\n</td>\n<td>Etobicoke\n</td>\n<td>South Steeles / Silverstone / Humbergate / Jamestown / Mount Olive / Beaumond Heights / Thistletown / Albion Gardens\n</td></tr>\n<tr>\n<td>M1W\n</td>\n<td>Scarborough\n</td>\n<td>Steeles West / L'Amoreaux West\n</td></tr>\n<tr>\n<td>M2W\n</td>\n<td>Not assigned\n</td>\n<td>\n</td></tr>\n<tr>\n<td>M3W\n</td>\n<td>Not assigned\n</td>\n<td>\n</td></tr>\n<tr>\n<td>M4W\n</td>\n<td>Downtown Toronto\n</td>\n<td>Rosedale\n</td></tr>\n<tr>\n<td>M5W\n</td>\n<td>Downtown Toronto\n</td>\n<td>Stn A PO Boxes\n</td></tr>\n<tr>\n<td>M6W\n</td>\n<td>Not assigned\n</td>\n<td>\n</td></tr>\n<tr>\n<td>M7W\n</td>\n<td>Not assigned\n</td>\n<td>\n</td></tr>\n<tr>\n<td>M8W\n</td>\n<td>Etobicoke\n</td>\n<td>Alderwood / Long Branch\n</td></tr>\n<tr>\n<td>M9W\n</td>\n<td>Etobicoke\n</td>\n<td>Northwest\n</td></tr>\n<tr>\n<td>M1X\n</td>\n<td>Scarborough\n</td>\n<td>Upper Rouge\n</td></tr>\n<tr>\n<td>M2X\n</td>\n<td>Not assigned\n</td>\n<td>\n</td></tr>\n<tr>\n<td>M3X\n</td>\n<td>Not assigned\n</td>\n<td>\n</td></tr>\n<tr>\n<td>M4X\n</td>\n<td>Downtown Toronto\n</td>\n<td>St. James Town / Cabbagetown\n</td></tr>\n<tr>\n<td>M5X\n</td>\n<td>Downtown Toronto\n</td>\n<td>First Canadian Place / Underground city\n</td></tr>\n<tr>\n<td>M6X\n</td>\n<td>Not assigned\n</td>\n<td>\n</td></tr>\n<tr>\n<td>M7X\n</td>\n<td>Not assigned\n</td>\n<td>\n</td></tr>\n<tr>\n<td>M8X\n</td>\n<td>Etobicoke\n</td>\n<td>The Kingsway / Montgomery Road  / Old Mill North\n</td></tr>\n<tr>\n<td>M9X\n</td>\n<td>Not assigned\n</td>\n<td>\n</td></tr>\n<tr>\n<td>M1Y\n</td>\n<td>Not assigned\n</td>\n<td>\n</td></tr>\n<tr>\n<td>M2Y\n</td>\n<td>Not assigned\n</td>\n<td>\n</td></tr>\n<tr>\n<td>M3Y\n</td>\n<td>Not assigned\n</td>\n<td>\n</td></tr>\n<tr>\n<td>M4Y\n</td>\n<td>Downtown Toronto\n</td>\n<td>Church and Wellesley\n</td></tr>\n<tr>\n<td>M5Y\n</td>\n<td>Not assigned\n</td>\n<td>\n</td></tr>\n<tr>\n<td>M6Y\n</td>\n<td>Not assigned\n</td>\n<td>\n</td></tr>\n<tr>\n<td>M7Y\n</td>\n<td>East Toronto\n</td>\n<td>Business reply mail Processing CentrE\n</td></tr>\n<tr>\n<td>M8Y\n</td>\n<td>Etobicoke\n</td>\n<td>Old Mill South / King's Mill Park / Sunnylea / Humber Bay / Mimico NE / The Queensway East / Royal York South East / Kingsway Park South East\n</td></tr>\n<tr>\n<td>M9Y\n</td>\n<td>Not assigned\n</td>\n<td>\n</td></tr>\n<tr>\n<td>M1Z\n</td>\n<td>Not assigned\n</td>\n<td>\n</td></tr>\n<tr>\n<td>M2Z\n</td>\n<td>Not assigned\n</td>\n<td>\n</td></tr>\n<tr>\n<td>M3Z\n</td>\n<td>Not assigned\n</td>\n<td>\n</td></tr>\n<tr>\n<td>M4Z\n</td>\n<td>Not assigned\n</td>\n<td>\n</td></tr>\n<tr>\n<td>M5Z\n</td>\n<td>Not assigned\n</td>\n<td>\n</td></tr>\n<tr>\n<td>M6Z\n</td>\n<td>Not assigned\n</td>\n<td>\n</td></tr>\n<tr>\n<td>M7Z\n</td>\n<td>Not assigned\n</td>\n<td>\n</td></tr>\n<tr>\n<td>M8Z\n</td>\n<td>Etobicoke\n</td>\n<td>Mimico NW / The Queensway West / South of Bloor / Kingsway Park South West / Royal York South West\n</td></tr>\n<tr>\n<td>M9Z\n</td>\n<td>Not assigned\n</td>\n<td>\n</td></tr></tbody></table>\n\n\"\"\""
        },
        {
            "cell_type": "markdown",
            "metadata": {},
            "source": "Then, a .read_html function is used to convert it into a panda dataframe. Dataframe is sorted by postal code"
        },
        {
            "cell_type": "code",
            "execution_count": 48,
            "metadata": {},
            "outputs": [
                {
                    "data": {
                        "text/html": "<div>\n<style scoped>\n    .dataframe tbody tr th:only-of-type {\n        vertical-align: middle;\n    }\n\n    .dataframe tbody tr th {\n        vertical-align: top;\n    }\n\n    .dataframe thead th {\n        text-align: right;\n    }\n</style>\n<table border=\"1\" class=\"dataframe\">\n  <thead>\n    <tr style=\"text-align: right;\">\n      <th></th>\n      <th>Postal code</th>\n      <th>Borough</th>\n      <th>Neighborhood</th>\n    </tr>\n  </thead>\n  <tbody>\n    <tr>\n      <th>0</th>\n      <td>M1A</td>\n      <td>Not assigned</td>\n      <td>NaN</td>\n    </tr>\n    <tr>\n      <th>9</th>\n      <td>M1B</td>\n      <td>Scarborough</td>\n      <td>Malvern / Rouge</td>\n    </tr>\n    <tr>\n      <th>18</th>\n      <td>M1C</td>\n      <td>Scarborough</td>\n      <td>Rouge Hill / Port Union / Highland Creek</td>\n    </tr>\n    <tr>\n      <th>27</th>\n      <td>M1E</td>\n      <td>Scarborough</td>\n      <td>Guildwood / Morningside / West Hill</td>\n    </tr>\n    <tr>\n      <th>36</th>\n      <td>M1G</td>\n      <td>Scarborough</td>\n      <td>Woburn</td>\n    </tr>\n  </tbody>\n</table>\n</div>",
                        "text/plain": "   Postal code       Borough                              Neighborhood\n0          M1A  Not assigned                                       NaN\n9          M1B   Scarborough                           Malvern / Rouge\n18         M1C   Scarborough  Rouge Hill / Port Union / Highland Creek\n27         M1E   Scarborough       Guildwood / Morningside / West Hill\n36         M1G   Scarborough                                    Woburn"
                    },
                    "execution_count": 48,
                    "metadata": {},
                    "output_type": "execute_result"
                }
            ],
            "source": "df_can = pd.read_html(html_string)\ndf_can = df_can[0].sort_values(by = [\"Postal code\"])\ndf_can.head()"
        },
        {
            "cell_type": "code",
            "execution_count": 49,
            "metadata": {},
            "outputs": [
                {
                    "data": {
                        "text/html": "<div>\n<style scoped>\n    .dataframe tbody tr th:only-of-type {\n        vertical-align: middle;\n    }\n\n    .dataframe tbody tr th {\n        vertical-align: top;\n    }\n\n    .dataframe thead th {\n        text-align: right;\n    }\n</style>\n<table border=\"1\" class=\"dataframe\">\n  <thead>\n    <tr style=\"text-align: right;\">\n      <th></th>\n      <th>Postal code</th>\n      <th>Borough</th>\n      <th>Neighborhood</th>\n    </tr>\n  </thead>\n  <tbody>\n    <tr>\n      <th>9</th>\n      <td>M1B</td>\n      <td>Scarborough</td>\n      <td>Malvern / Rouge</td>\n    </tr>\n    <tr>\n      <th>18</th>\n      <td>M1C</td>\n      <td>Scarborough</td>\n      <td>Rouge Hill / Port Union / Highland Creek</td>\n    </tr>\n    <tr>\n      <th>27</th>\n      <td>M1E</td>\n      <td>Scarborough</td>\n      <td>Guildwood / Morningside / West Hill</td>\n    </tr>\n    <tr>\n      <th>36</th>\n      <td>M1G</td>\n      <td>Scarborough</td>\n      <td>Woburn</td>\n    </tr>\n    <tr>\n      <th>45</th>\n      <td>M1H</td>\n      <td>Scarborough</td>\n      <td>Cedarbrae</td>\n    </tr>\n  </tbody>\n</table>\n</div>",
                        "text/plain": "   Postal code      Borough                              Neighborhood\n9          M1B  Scarborough                           Malvern / Rouge\n18         M1C  Scarborough  Rouge Hill / Port Union / Highland Creek\n27         M1E  Scarborough       Guildwood / Morningside / West Hill\n36         M1G  Scarborough                                    Woburn\n45         M1H  Scarborough                                 Cedarbrae"
                    },
                    "execution_count": 49,
                    "metadata": {},
                    "output_type": "execute_result"
                }
            ],
            "source": "df_can.dropna(inplace = True)\ndf_can.drop(df_can.loc[df_can['Borough']=='Not assigned'].index, inplace=True)\ndf_can.head()"
        },
        {
            "cell_type": "code",
            "execution_count": 50,
            "metadata": {},
            "outputs": [],
            "source": "df_can.sort_values(by=[\"Postal code\"],axis=0)\ndf_can = df_can.reset_index(drop=True)"
        },
        {
            "cell_type": "markdown",
            "metadata": {},
            "source": "Another criteria is to group the neighborhoods by post code, which is already done in the wikipedia table given. The problem is that is separated in each row with a slash \"/\", so there is need to replace it with a comma \" ,\". Then, a reset index is done."
        },
        {
            "cell_type": "code",
            "execution_count": 51,
            "metadata": {},
            "outputs": [
                {
                    "data": {
                        "text/html": "<div>\n<style scoped>\n    .dataframe tbody tr th:only-of-type {\n        vertical-align: middle;\n    }\n\n    .dataframe tbody tr th {\n        vertical-align: top;\n    }\n\n    .dataframe thead th {\n        text-align: right;\n    }\n</style>\n<table border=\"1\" class=\"dataframe\">\n  <thead>\n    <tr style=\"text-align: right;\">\n      <th></th>\n      <th>Postal code</th>\n      <th>Borough</th>\n      <th>Neighborhood</th>\n    </tr>\n  </thead>\n  <tbody>\n    <tr>\n      <th>0</th>\n      <td>M1B</td>\n      <td>Scarborough</td>\n      <td>Malvern, Rouge</td>\n    </tr>\n    <tr>\n      <th>1</th>\n      <td>M1C</td>\n      <td>Scarborough</td>\n      <td>Rouge Hill, Port Union, Highland Creek</td>\n    </tr>\n    <tr>\n      <th>2</th>\n      <td>M1E</td>\n      <td>Scarborough</td>\n      <td>Guildwood, Morningside, West Hill</td>\n    </tr>\n    <tr>\n      <th>3</th>\n      <td>M1G</td>\n      <td>Scarborough</td>\n      <td>Woburn</td>\n    </tr>\n    <tr>\n      <th>4</th>\n      <td>M1H</td>\n      <td>Scarborough</td>\n      <td>Cedarbrae</td>\n    </tr>\n  </tbody>\n</table>\n</div>",
                        "text/plain": "  Postal code      Borough                            Neighborhood\n0         M1B  Scarborough                          Malvern, Rouge\n1         M1C  Scarborough  Rouge Hill, Port Union, Highland Creek\n2         M1E  Scarborough       Guildwood, Morningside, West Hill\n3         M1G  Scarborough                                  Woburn\n4         M1H  Scarborough                               Cedarbrae"
                    },
                    "execution_count": 51,
                    "metadata": {},
                    "output_type": "execute_result"
                }
            ],
            "source": "df_can['Neighborhood'] = df_can['Neighborhood'].str.replace(\" /\",\",\")\ndf_can.reset_index(drop=True, inplace = True)\ndf_can.head()"
        },
        {
            "cell_type": "markdown",
            "metadata": {},
            "source": "And there we have it. The dataframe is sorted by Postal code and every neighborhood is in the row of each postal code. Let's see the shape of the dataframe:"
        },
        {
            "cell_type": "code",
            "execution_count": 47,
            "metadata": {},
            "outputs": [
                {
                    "data": {
                        "text/plain": "(180, 3)"
                    },
                    "execution_count": 47,
                    "metadata": {},
                    "output_type": "execute_result"
                }
            ],
            "source": "df_can.shape"
        }
    ],
    "metadata": {
        "kernelspec": {
            "display_name": "Python 3.6",
            "language": "python",
            "name": "python3"
        },
        "language_info": {
            "codemirror_mode": {
                "name": "ipython",
                "version": 3
            },
            "file_extension": ".py",
            "mimetype": "text/x-python",
            "name": "python",
            "nbconvert_exporter": "python",
            "pygments_lexer": "ipython3",
            "version": "3.6.9"
        }
    },
    "nbformat": 4,
    "nbformat_minor": 1
}